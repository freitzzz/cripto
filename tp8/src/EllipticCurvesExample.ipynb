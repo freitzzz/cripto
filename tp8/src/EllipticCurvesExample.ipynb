{
 "cells": [
  {
   "cell_type": "markdown",
   "metadata": {},
   "source": [
    "We will use [Curve P-384](https://nvlpubs.nist.gov/nistpubs/FIPS/NIST.FIPS.186-4.pdf)  as an example:\n",
    "\n",
    "$p = 2^{384} - 2^{128} - 2^{96} + 2^{32} - 1$\n",
    "\n",
    "Points satisfy the following equation:\n",
    "\n",
    "$y^2 = x^3 + Ax + B \\mod p$\n",
    "\n",
    "with $A$ and $B$ as below. "
   ]
  },
  {
   "cell_type": "code",
   "execution_count": 2,
   "metadata": {},
   "outputs": [
    {
     "name": "stdout",
     "output_type": "stream",
     "text": [
      "Elliptic Curve defined by y^2 = x^3 + 39402006196394479212279040100143613805079739270465446667948293404245721771496870329047266088258938001861606973112316*x + 27580193559959705877849011840389048093056905856361568521428707301988689241309860865136260764883745107765439761230575 over Finite Field of size 39402006196394479212279040100143613805079739270465446667948293404245721771496870329047266088258938001861606973112319\n"
     ]
    }
   ],
   "source": [
    "p = 2**384 - 2**128 - 2**96 + 2**32 - 1\n",
    "Fp = FiniteField(p)\n",
    "A = -3\n",
    "B = 0xb3312fa7e23ee7e4988e056be3f82d19181d9c6efe8141120314088f5013875ac656398d8a2ed19d2a85c8edd3ec2aef\n",
    "E = EllipticCurve(Fp,[A,B])\n",
    "print(E)"
   ]
  },
  {
   "cell_type": "markdown",
   "metadata": {},
   "source": [
    "The standard also defines the generator point G via two coordinates Gx and Gy:"
   ]
  },
  {
   "cell_type": "code",
   "execution_count": 3,
   "metadata": {},
   "outputs": [
    {
     "name": "stdout",
     "output_type": "stream",
     "text": [
      "(26247035095799689268623156744566981891852923491109213387815615900925518854738050089022388053975719786650872476732087 : 8325710961489029985546751289520108179287853048861315594709205902480503199884419224438643760392947333078086511627871 : 1)\n"
     ]
    }
   ],
   "source": [
    "Gx = 0xaa87ca22be8b05378eb1c71ef320ad746e1d3b628ba79b9859f741e082542a385502f25dbf55296c3a545e3872760ab7\n",
    "Gy = 0x3617de4a96262c6f5d9e98bf9292dc29f8f41dbd289a147ce9da3113b5f0b8c00a60b1ce1d7e819d7a431d7c90ea0e5f\n",
    "assert(E.is_on_curve(Gx,Gy))\n",
    "G = E([Gx,Gy])\n",
    "print(G)"
   ]
  },
  {
   "cell_type": "markdown",
   "metadata": {},
   "source": [
    "We can now generate random scalars and compute the exponentiation in the group."
   ]
  },
  {
   "cell_type": "code",
   "execution_count": 4,
   "metadata": {},
   "outputs": [
    {
     "name": "stdout",
     "output_type": "stream",
     "text": [
      "(23311400543223394902199687678493335689264711763957290196474739261113469817708504759704432483068207302928263606126888 : 10136373230867802562472123418815630182686879503763171309648927703995849783255444670734448803938582036170944746533788 : 1)\n",
      "(6788898255061123403208296459472149062970056555607030827834215098644414648167017340248181895026121760311372629591422 : 23757155756581877472055740804552510627287027321268825302157675421121747396792907499912946460820164055454909751586635 : 1)\n"
     ]
    }
   ],
   "source": [
    "x = ZZ(Fp.random_element())\n",
    "X = x*G\n",
    "print(X)\n",
    "y = ZZ(Fp.random_element())\n",
    "Y = y*G\n",
    "print(Y)"
   ]
  },
  {
   "cell_type": "markdown",
   "metadata": {},
   "source": [
    "And EC Diffie-Hellman protocol works"
   ]
  },
  {
   "cell_type": "code",
   "execution_count": 5,
   "metadata": {},
   "outputs": [],
   "source": [
    "assert(x*Y == y*X)"
   ]
  },
  {
   "cell_type": "code",
   "execution_count": null,
   "metadata": {},
   "outputs": [],
   "source": []
  }
 ],
 "metadata": {
  "kernelspec": {
   "display_name": "SageMath 9.4",
   "language": "sage",
   "name": "sagemath-9.4"
  },
  "language_info": {
   "codemirror_mode": {
    "name": "ipython",
    "version": 3
   },
   "file_extension": ".py",
   "mimetype": "text/x-python",
   "name": "python",
   "nbconvert_exporter": "python",
   "pygments_lexer": "ipython3",
   "version": "3.9.5"
  }
 },
 "nbformat": 4,
 "nbformat_minor": 4
}
