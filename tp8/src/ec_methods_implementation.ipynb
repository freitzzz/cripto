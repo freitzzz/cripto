{
 "cells": [
  {
   "cell_type": "markdown",
   "metadata": {},
   "source": [
    "We will use [Curve P-384](https://nvlpubs.nist.gov/nistpubs/FIPS/NIST.FIPS.186-4.pdf)  as an example:\n",
    "\n",
    "$p = 2^{384} - 2^{128} - 2^{96} + 2^{32} - 1$\n",
    "\n",
    "Points satisfy the following equation:\n",
    "\n",
    "$y^2 = x^3 + Ax + B \\mod p$\n",
    "\n",
    "with $A$ and $B$ as below. "
   ]
  },
  {
   "cell_type": "code",
   "execution_count": 1,
   "metadata": {},
   "outputs": [
    {
     "name": "stdout",
     "output_type": "stream",
     "text": [
      "Elliptic Curve defined by y^2 = x^3 + 39402006196394479212279040100143613805079739270465446667948293404245721771496870329047266088258938001861606973112316*x + 27580193559959705877849011840389048093056905856361568521428707301988689241309860865136260764883745107765439761230575 over Finite Field of size 39402006196394479212279040100143613805079739270465446667948293404245721771496870329047266088258938001861606973112319\n"
     ]
    }
   ],
   "source": [
    "p = 2**384 - 2**128 - 2**96 + 2**32 - 1\n",
    "Fp = FiniteField(p)\n",
    "A = -3\n",
    "B = 0xb3312fa7e23ee7e4988e056be3f82d19181d9c6efe8141120314088f5013875ac656398d8a2ed19d2a85c8edd3ec2aef\n",
    "E = EllipticCurve(Fp,[A,B])\n",
    "print(E)"
   ]
  },
  {
   "cell_type": "code",
   "execution_count": 3,
   "metadata": {},
   "outputs": [],
   "source": [
    "def GenPubKey(A, B, p, xP, yP):\n",
    "    \n",
    "    Fp = FiniteField(p)\n",
    "    E = EllipticCurve(Fp,[A,B])\n",
    "    \n",
    "    P = (xP, yP)\n",
    "    nA = ZZ(Fp.random_element()) # how to chose this secret multiplier? Sample from eliptic curve?\n",
    "    \n",
    "    Qa = tuple([nA*x for x in P]) # nA * P\n",
    "    \n",
    "    return Qa, nA\n",
    "\n",
    "def Encript(A, B, p, xP, yP, Qa, m1, m2):\n",
    "    \n",
    "    Fp = FiniteField(p)\n",
    "    E = EllipticCurve(Fp,[A,B])\n",
    "    \n",
    "    P = (xP, yP)\n",
    "    k = ZZ(Fp.random_element())\n",
    "    S =  tuple([k*x for x in Qa]) # k * Qa\n",
    "    xS = S[0]\n",
    "    yS = S[1]\n",
    "\n",
    "    \n",
    "    R = tuple([k*x for x in P]) # k * P\n",
    "    c1 = (xS*m1) % p\n",
    "    c2 = (yS*m2) % p\n",
    "    \n",
    "    return R, c1, c2\n",
    "\n",
    "def Decript(A, B, p, xP, yP, R, c1, c2):\n",
    "    P = (xP, yP)\n",
    "    T = tuple([nA*x for x in R]) # nA * R\n",
    "    \n",
    "    xT = T[0]\n",
    "    yT = T[1]\n",
    "    \n",
    "    m1 = ((xT ^ -1) * c1) % p\n",
    "    m2 = ((yT ^ -1) * c2) % p\n",
    "    \n",
    "    return m1, m2"
   ]
  },
  {
   "cell_type": "code",
   "execution_count": 4,
   "metadata": {},
   "outputs": [],
   "source": [
    "xP, yP = 3, 4\n",
    "m1, m2 = 5, 6\n",
    "\n",
    "Qa, nA = GenPubKey(A, B, p, xP, yP)\n",
    "\n",
    "R, c1, c2 = Encript(A, B, p, xP, yP, Qa, m1, m2)\n",
    "\n",
    "rm1, rm2 = Decript(A, B, p, xP, yP, R, c1, c2)"
   ]
  },
  {
   "cell_type": "code",
   "execution_count": 5,
   "metadata": {},
   "outputs": [],
   "source": [
    "# Prove that methods work\n",
    "\n",
    "assert((m1, m2) == (rm1, rm2))"
   ]
  }
 ],
 "metadata": {
  "kernelspec": {
   "display_name": "SageMath 9.4",
   "language": "sage",
   "name": "sagemath-9.4"
  },
  "language_info": {
   "codemirror_mode": {
    "name": "ipython",
    "version": 3
   },
   "file_extension": ".py",
   "mimetype": "text/x-python",
   "name": "python",
   "nbconvert_exporter": "python",
   "pygments_lexer": "ipython3",
   "version": "3.9.5"
  }
 },
 "nbformat": 4,
 "nbformat_minor": 4
}
