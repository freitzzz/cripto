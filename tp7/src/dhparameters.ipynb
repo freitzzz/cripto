{
 "cells": [
  {
   "cell_type": "code",
   "execution_count": 32,
   "metadata": {},
   "outputs": [],
   "source": [
    "hex_4096_dh_parameters_no_dsaparam = '00:c0:7e:12:09:54:73:99:14:32:5c:d9:82:44:4b:84:bf:41:92:bf:8c:bd:c4:8a:77:74:42:5a:b1:d0:97:22:97:8d:2e:2b:7c:60:e5:7d:dc:2e:50:13:a6:ee:41:9b:01:a5:e9:d1:a0:07:27:1d:5c:40:63:ec:5d:12:0f:fb:67:7f:51:f2:2e:e6:9c:92:1a:77:8c:cb:65:70:a5:51:7b:35:41:bb:06:a4:13:f2:4a:00:72:a8:40:3e:c8:fb:3c:5a:18:e0:1e:cb:78:4e:e5:6d:75:00:1f:79:7a:0e:07:e6:68:53:2a:85:30:9a:62:dc:58:7c:74:c6:d2:68:2a:87:26:28:a7:c9:bd:c2:8c:e9:d3:0f:51:91:b1:86:96:56:05:74:43:af:80:f3:fd:f3:c2:02:8c:9c:50:41:08:96:41:1f:03:1d:e4:c7:69:5e:e5:eb:f8:b3:78:e9:62:d8:47:ae:c3:7b:3b:16:09:7c:a9:af:5b:ad:7d:a0:6f:a7:fe:46:a9:d0:ec:f2:da:7a:e0:cb:c7:16:64:da:ad:48:7d:32:41:b6:2d:a6:eb:38:bc:b2:50:47:d2:45:2e:ae:33:09:e9:dc:7d:d8:8b:75:0c:12:0f:f9:0f:87:7b:f6:43:7c:79:1f:ef:e7:78:47:18:5a:65:26:e5:c8:df:fc:9a:b5:a2:d1:cd:0b:28:a6:db:3e:3a:96:3c:17:09:e2:4e:47:0b:7e:ad:b5:3c:59:2e:8e:b7:5b:b8:cc:2c:4c:25:4f:bd:f1:6e:7a:2a:9a:9a:d3:39:e0:43:80:ce:94:be:18:90:83:54:91:40:67:7e:9e:2f:c8:36:57:dd:ce:9e:02:db:6c:d6:15:5f:05:fe:f3:45:06:54:35:00:59:b1:cb:52:86:6f:d2:01:9a:26:04:8c:53:0b:06:ea:59:73:80:31:1e:76:7e:8d:3e:ef:b6:30:02:86:56:dd:6e:52:db:5c:35:0c:bd:1d:0e:1b:26:5d:ae:16:52:83:da:f2:12:98:7f:88:a6:c5:85:bb:7f:a5:a6:b8:e3:b6:cd:70:1f:e0:24:78:31:f5:ca:37:94:d5:1d:c4:91:6d:09:43:f5:75:61:9f:3a:3b:68:b4:79:4c:5f:19:d3:57:b2:84:67:17:5f:50:0d:b0:0f:61:83:e9:e3:aa:73:c1:27:ff:a2:c1:00:98:4f:94:e2:41:99:0f:48:33:eb:58:83:cb:a4:a5:ad:5d:0b:c2:7b:23:8a:ba:49:58:c5:61:4c:63:9d:7a:d2:f7:2a:1b:3b:70:22:7a:bd:c9:92:a0:d9:58:6c:13:f4:0d:26:ba:bf:12:8f:06:04:17:6b:5b'\n",
    "hex_4096_dh_parameters_with_dsaparam = '00:a5:80:69:6e:a5:8b:f3:cb:04:e4:26:fb:0a:88:93:49:d5:20:d2:f4:f2:ee:a4:a0:51:05:51:7e:c7:0d:01:ed:56:2c:fa:6c:20:19:bc:c8:c6:3d:77:a0:24:2f:b4:f2:73:ec:76:32:06:24:02:e3:da:ab:f7:42:3d:89:88:f1:5a:68:14:8d:2c:f3:95:cb:10:15:da:09:0b:7c:67:40:27:cf:4a:d2:4e:ad:8f:d2:a1:10:8d:a6:ea:69:40:ba:84:b9:24:ae:36:09:da:db:83:83:73:73:87:08:05:c2:e2:c4:95:78:7c:19:1b:98:cc:8d:e8:43:3f:40:93:51:e8:f7:6d:1f:c9:9e:2b:b7:8b:aa:4c:a0:96:11:03:a3:14:a1:76:94:57:1d:90:c2:df:b9:b5:1f:32:71:56:4a:cb:15:48:67:ba:0d:03:fa:87:36:de:21:df:b9:7a:68:28:5c:2c:ed:49:64:0e:99:ed:ed:92:af:b7:1e:84:ef:64:02:57:d0:3c:b6:ff:07:21:39:a6:25:ba:27:21:7e:a6:9b:81:6d:e1:5e:7c:56:46:04:65:3d:c8:b6:99:7d:9f:e5:ce:7d:80:f5:d3:53:93:97:cf:76:61:eb:dd:43:1f:47:84:8c:be:72:cf:ae:bb:11:30:c0:73:a9:05:98:16:11:d0:78:43:a8:cd:b1:99:2e:f0:cb:15:0f:5f:d8:a3:bd:28:20:c7:a1:54:1a:d4:30:bd:29:12:29:af:6f:46:95:56:a5:60:1e:c3:b7:94:63:a1:b4:dd:48:29:4f:36:4f:58:8d:fa:05:51:7b:23:c9:c4:2b:4d:6b:d9:2c:01:9c:9a:08:93:40:5b:21:a1:e1:e9:5e:8b:dd:46:5c:eb:8d:ad:e0:b6:94:8b:24:d9:05:bb:61:c9:9f:27:a8:5f:28:e6:6e:4f:bf:64:2c:d7:b6:97:cb:51:73:8b:b7:78:f1:ac:26:cb:38:c6:b8:32:11:c5:fb:6a:26:9f:95:b1:25:f2:ef:b2:6b:a2:47:46:71:4b:d7:ce:27:8a:08:82:b7:25:00:71:8d:2c:29:0c:03:a4:2e:63:d0:a6:4c:52:fe:25:ad:59:47:e4:d2:4d:26:c3:16:8e:d7:41:a7:56:90:78:56:62:bf:b7:ff:cd:cf:64:9d:38:21:b6:1d:1b:2f:05:80:3c:cc:45:3e:9f:20:08:99:0c:8a:ce:54:c9:87:c0:9d:8a:f8:8a:90:32:ba:43:d1:78:fe:d7:04:8f:be:34:42:ad:ed:4d:f8:68:8d:7d:e4:71:ed:20:09:30:bd:df:8c:12:a6:9d:8c:c8:05:ca:01:6b:2c:5f:85'\n",
    "\n",
    "def hex_to_bigint(hex_string):\n",
    "    hex_split = hex_string.split(\":\")[::-1]\n",
    "    bigint = 0\n",
    "    byte_value = 1\n",
    "    bit8 = 256\n",
    "    \n",
    "    for i in hex_split:\n",
    "        hex_int = int(i, 16)\n",
    "        bigint += hex_int*byte_value\n",
    "        byte_value *= bit8\n",
    "    \n",
    "    return bigint\n",
    "\n",
    "def is_safe_prime(prime):\n",
    "    return ((prime - 1) / 2).is_prime()\n",
    "\n",
    "bigint_4096_dh_parameters_no_dsaparam = hex_to_bigint(hex_4096_dh_parameters_no_dsaparam)\n",
    "bigint_4096_dh_parameters_with_dsaparam = hex_to_bigint(hex_4096_dh_parameters_with_dsaparam)\n",
    "\n",
    "# assert(is_safe_prime(bigint_4096_dh_parameters_no_dsaparam))\n",
    "# assert(is_safe_prime(bigint_4096_dh_parameters_with_dsaparam) == False)"
   ]
  },
  {
   "cell_type": "code",
   "execution_count": 71,
   "metadata": {},
   "outputs": [
    {
     "name": "stdout",
     "output_type": "stream",
     "text": [
      "397\n",
      "805\n"
     ]
    },
    {
     "ename": "AssertionError",
     "evalue": "",
     "output_type": "error",
     "traceback": [
      "\u001b[0;31m---------------------------------------------------------------------------\u001b[0m",
      "\u001b[0;31mAssertionError\u001b[0m                            Traceback (most recent call last)",
      "\u001b[0;32m<ipython-input-71-46078d20672f>\u001b[0m in \u001b[0;36m<module>\u001b[0;34m\u001b[0m\n\u001b[1;32m     29\u001b[0m \u001b[0mprint\u001b[0m\u001b[0;34m(\u001b[0m\u001b[0mY\u001b[0m\u001b[0;34m)\u001b[0m\u001b[0;34m\u001b[0m\u001b[0;34m\u001b[0m\u001b[0m\n\u001b[1;32m     30\u001b[0m \u001b[0;34m\u001b[0m\u001b[0m\n\u001b[0;32m---> 31\u001b[0;31m \u001b[0;32massert\u001b[0m\u001b[0;34m(\u001b[0m\u001b[0mlog\u001b[0m\u001b[0;34m(\u001b[0m\u001b[0mInteger\u001b[0m\u001b[0;34m(\u001b[0m\u001b[0;36m974\u001b[0m\u001b[0;34m)\u001b[0m\u001b[0;34m,\u001b[0m \u001b[0mY\u001b[0m\u001b[0;34m)\u001b[0m \u001b[0;34m==\u001b[0m \u001b[0mInteger\u001b[0m\u001b[0;34m(\u001b[0m\u001b[0;36m1\u001b[0m\u001b[0;34m)\u001b[0m\u001b[0;34m)\u001b[0m\u001b[0;34m\u001b[0m\u001b[0;34m\u001b[0m\u001b[0m\n\u001b[0m",
      "\u001b[0;31mAssertionError\u001b[0m: "
     ]
    }
   ],
   "source": [
    "from random import seed, randint\n",
    "\n",
    "seed(1)\n",
    "\n",
    "#p1 = int(\"00df1d46b926fc001f46792c8077058e9a40b3cc51418e32d376def8481147b621fb2c020c576a8662f144ce30ba56b7209283cd28a5774c0e932e2fbb1761af209cba7c84f069489003cee6ed9fa7f1e80f1c1660f10f2905dcad778982d706891cb69c1c0115330d794e66bb3d8f98fde434d38da9d633649c07fa559ecd19444bccaa9c08d523bafc9bed5b298639c2022470e0fbb1da72cb71ddeab9e4ba13bd0bc53e314121f23ee5f3585e1ddf47b5a26c5d652ac2de458e599de5168cc34542007c93f16adf624fbc639b4a7217f0f73c0147e3efc3c0097c0a3b37dfd2099999e82ca3e938673df2f8c4c56d69f3bbd3d21566287ec020f5503773eb1ef562ba997ff7d45328000cbf17a3c5e11f7f669d1dfa04ca29a3525bda7679457ed4b9fb4b104b2b1d45277f4a7e9fa7453b3e32155896ad46e109fdbf9ac2e306988373f6aa9cfe30bf7a0b240ff2d79caa07e3f50df65ff5279711ee0229eae624fa80e070d91638805f4c72c56732b0353c9798aaf3608cdcde99f543567356caaa237526000227c4ee8465ebf6ee8f8f0098ba2c70c711f19840de3a6ace8ba5a50769220c01ce536090bb266491a938e89cbf3feeda75dfc21afbe852ea2292ae4320165350ddb70d24fc0f64f487113327e0b2b2567efd0a37064d306d713a05d2838d92bdfb47fafcc9333595fa2dd67c4086828e77787196c36689ab\", 16)\n",
    "#p2 = int(\"268e2b17055e5321e6e9dacb1d65df23c1a268d1d2a1d0de3a30a24769a0e3de2c19c2dc5e758b5f75fd0af2bd8dd59a7e6fb2e0b2f9ce183e46cfacc21725599de92aff61538d693f565d504830376eca569f655d4cb126eb40ec2be8f87be9aee0ed2a3e7382d231a5bfc65d9e10698992ecdf14d66ccc374a77d7cda9b4f3d26352a57c4bceb40c961b8b945713218131f55d34eabaa4bce3d0aa2f5731061a37f1815cd5c8240b5a60b6167bb51ec98d8705719181035c96d5e3120acaeda84fd029258f0861ee1c511e391b9b471bfc1de94bcd098126302d88e1999ed1c8d144bdaf68e3e2ff4521f2644202aaf9502c6204e335295c1975e68f5ae227c76837f937eabac1a73bae0ca5fd2d05edd3518621de01cc006c90de573c50ca3a8f55f3d2f24d4f55dac20b9c1611af4760d1a61a68f04b6f1f4eb784f1164e8523654552f0a0543b892e2101511d42859c07b944dcfe04500a2cb285aa81a7488126075f08372982f1842be36e828861bef950c4480bbfe0901de48d9cac8d0483be20489eeebc413d6276918276f7124eb905e090f226398b849db34def62aa6e1ca11b5ad61a815a2ac8adcec1ce74a78b12bd075159c08bba8f48815f2afe4909389d20d232aa02da44ec906d25f83209bb9ee9ae3738b14c821c250ee9d9c76f550800f988b0081ac2de39d212595baf3c6c11fe71933c0f09c5727d\", 16)\n",
    "#q = int(\"190b7bae41be3c9eb180ed99ca4d9dbb75020e88a33e3e9849c52f7d398475\", 16)\n",
    "p1 = 101\n",
    "p2 = 103\n",
    "q = 3\n",
    "\n",
    "x = randint(0, q-1)\n",
    "y = randint(0, q-1)\n",
    "\n",
    "g = (GF(p1))(p2) # ???\n",
    "\n",
    "X = (g^x) % p\n",
    "Y = (g^y) % p\n",
    "\n",
    "Xy = (X^y) % p\n",
    "Yx = (Y^x) % p\n",
    "\n",
    "assert(Xy == Yx)\n",
    "\n",
    "print((974^871) % 1373)\n",
    "\n",
    "Y = (2^871) % 1373\n",
    "\n",
    "print(Y)\n",
    "\n",
    "assert(log(974, Y) == 1)"
   ]
  },
  {
   "cell_type": "code",
   "execution_count": null,
   "metadata": {},
   "outputs": [],
   "source": []
  },
  {
   "cell_type": "code",
   "execution_count": null,
   "metadata": {},
   "outputs": [],
   "source": []
  }
 ],
 "metadata": {
  "kernelspec": {
   "display_name": "SageMath 9.4",
   "language": "sage",
   "name": "sagemath-9.4"
  },
  "language_info": {
   "codemirror_mode": {
    "name": "ipython",
    "version": 3
   },
   "file_extension": ".py",
   "mimetype": "text/x-python",
   "name": "python",
   "nbconvert_exporter": "python",
   "pygments_lexer": "ipython3",
   "version": "3.9.5"
  }
 },
 "nbformat": 4,
 "nbformat_minor": 4
}
